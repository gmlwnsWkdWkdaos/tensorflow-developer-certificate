{
  "nbformat": 4,
  "nbformat_minor": 5,
  "metadata": {
    "kernelspec": {
      "display_name": "Python 3 (ipykernel)",
      "language": "python",
      "name": "python3"
    },
    "language_info": {
      "codemirror_mode": {
        "name": "ipython",
        "version": 3
      },
      "file_extension": ".py",
      "mimetype": "text/x-python",
      "name": "python",
      "nbconvert_exporter": "python",
      "pygments_lexer": "ipython3",
      "version": "3.7.10"
    },
    "colab": {
      "name": "TF Certificate Category 5 - Weekly US Retail (강의)",
      "provenance": [],
      "collapsed_sections": []
    },
    "accelerator": "GPU"
  },
  "cells": [
    {
      "cell_type": "code",
      "metadata": {
        "id": "C-z36bIfUDQl"
      },
      "source": [
        "# 2021년 10월 20일 신규 출제 문제"
      ],
      "id": "C-z36bIfUDQl",
      "execution_count": null,
      "outputs": []
    },
    {
      "cell_type": "markdown",
      "metadata": {
        "id": "5e1413d6"
      },
      "source": [
        "# Category 5\n",
        "\n",
        "Sequence (시계열) 데이터 다루기"
      ],
      "id": "5e1413d6"
    },
    {
      "cell_type": "markdown",
      "metadata": {
        "id": "6dfad319"
      },
      "source": [
        "## 확인"
      ],
      "id": "6dfad319"
    },
    {
      "cell_type": "markdown",
      "metadata": {
        "id": "33158dd8"
      },
      "source": [
        "1. GPU 옵션 켜져 있는지 확인할 것!!! (수정 - 노트설정 - 하드웨어설정 (GPU))"
      ],
      "id": "33158dd8"
    },
    {
      "cell_type": "markdown",
      "metadata": {
        "id": "b0989fb2"
      },
      "source": [
        "## 순서"
      ],
      "id": "b0989fb2"
    },
    {
      "cell_type": "markdown",
      "metadata": {
        "id": "a133fcd4"
      },
      "source": [
        "1. **import**: 필요한 모듈 import\n",
        "2. **전처리**: 학습에 필요한 데이터 전처리를 수행합니다.\n",
        "3. **모델링(model)**: 모델을 정의합니다.\n",
        "4. **컴파일(compile)**: 모델을 생성합니다.\n",
        "5. **학습 (fit)**: 모델을 학습시킵니다."
      ],
      "id": "a133fcd4"
    },
    {
      "cell_type": "markdown",
      "metadata": {
        "id": "41716c06"
      },
      "source": [
        "## 문제"
      ],
      "id": "41716c06"
    },
    {
      "cell_type": "markdown",
      "metadata": {
        "id": "2a909b6c"
      },
      "source": [
        "Build and train a neural network to predict the time indexed variable of the univariate US diesel prices (On - Highway) All types for the period of 1994 - 2021.\n",
        "\n",
        "Using a **window of past 10 observations of 1 feature** , train the model to predict the **next 10 observations** of that feature.\n",
        "\n",
        "---\n",
        "\n",
        "HINT: If you follow all the rules mentioned above and throughout this\n",
        "question while training your neural network, there is a possibility that a\n",
        "validation **MAE of approximately 0.02 or less on the normalized validation\n",
        "dataset** may fetch you top marks."
      ],
      "id": "2a909b6c"
    },
    {
      "cell_type": "markdown",
      "metadata": {
        "id": "d3422951"
      },
      "source": [
        "## 실습 예제 다운로드"
      ],
      "id": "d3422951"
    },
    {
      "cell_type": "code",
      "metadata": {
        "id": "4407fa14"
      },
      "source": [
        "import urllib\n",
        "import pandas as pd\n",
        "import tensorflow as tf\n",
        "from tensorflow.keras.layers import Dense, Conv1D, LSTM, Bidirectional\n",
        "from tensorflow.keras.models import Sequential\n",
        "from tensorflow.keras.callbacks import ModelCheckpoint\n",
        "\n",
        "# 아래 2줄 코드는 넣지 말아 주세요!!!\n",
        "url = 'https://www.dropbox.com/s/eduk281didil1km/Weekly_U.S.Diesel_Retail_Prices.csv?dl=1'\n",
        "urllib.request.urlretrieve(url, 'Weekly_U.S.Diesel_Retail_Prices.csv')"
      ],
      "id": "4407fa14",
      "execution_count": null,
      "outputs": []
    },
    {
      "cell_type": "markdown",
      "metadata": {
        "id": "67ea2ea7"
      },
      "source": [
        "### Normalization"
      ],
      "id": "67ea2ea7"
    },
    {
      "cell_type": "code",
      "metadata": {
        "id": "edf69d68"
      },
      "source": [
        "# This function normalizes the dataset using min max scaling.\n",
        "# DO NOT CHANGE THIS CODE\n",
        "def normalize_series(data, min, max):\n",
        "    data = data - min\n",
        "    data = data / max\n",
        "    return data"
      ],
      "id": "edf69d68",
      "execution_count": null,
      "outputs": []
    },
    {
      "cell_type": "markdown",
      "metadata": {
        "id": "80820e55"
      },
      "source": [
        "### Windowed Dataset 생성"
      ],
      "id": "80820e55"
    },
    {
      "cell_type": "code",
      "metadata": {
        "id": "4f85f8f2"
      },
      "source": [
        "# DO NOT CHANGE THIS.\n",
        "def windowed_dataset(series, batch_size, n_past=10, n_future=10, shift=1):\n",
        "    ds = tf.data.Dataset.from_tensor_slices(series)\n",
        "    ds = ds.window(size=n_past + n_future, shift=shift, drop_remainder=True)\n",
        "    ds = ds.flat_map(lambda w: w.batch(n_past + n_future))\n",
        "    ds = ds.map(lambda w: (w[:n_past], w[n_past:]))\n",
        "    return ds.batch(batch_size).prefetch(1)"
      ],
      "id": "4f85f8f2",
      "execution_count": null,
      "outputs": []
    },
    {
      "cell_type": "markdown",
      "metadata": {
        "id": "5294aaa0"
      },
      "source": [
        "### Dataset 로드"
      ],
      "id": "5294aaa0"
    },
    {
      "cell_type": "code",
      "metadata": {
        "id": "cb8adcad"
      },
      "source": [
        "df = pd.read_csv('Weekly_U.S.Diesel_Retail_Prices.csv', infer_datetime_format=True, index_col='Week of', header=0)\n",
        "df.head(20)"
      ],
      "id": "cb8adcad",
      "execution_count": null,
      "outputs": []
    },
    {
      "cell_type": "code",
      "metadata": {
        "id": "ec1f883e"
      },
      "source": [
        "# 특성 정의\n",
        "N_FEATURES = len(df.columns)\n",
        "N_FEATURES"
      ],
      "id": "ec1f883e",
      "execution_count": null,
      "outputs": []
    },
    {
      "cell_type": "markdown",
      "metadata": {
        "id": "66090bba"
      },
      "source": [
        "### 정규화 및 데이터 분할"
      ],
      "id": "66090bba"
    },
    {
      "cell_type": "code",
      "metadata": {
        "id": "26502285"
      },
      "source": [
        "# 정규화 코드\n",
        "data = df.values\n",
        "data = normalize_series(data, data.min(axis=0), data.max(axis=0))\n",
        "\n",
        "# 데이터 분할\n",
        "SPLIT_TIME = int(len(data) * 0.8) # DO NOT CHANGE THIS\n",
        "x_train = data[:SPLIT_TIME]\n",
        "x_valid = data[SPLIT_TIME:]"
      ],
      "id": "26502285",
      "execution_count": null,
      "outputs": []
    },
    {
      "cell_type": "code",
      "metadata": {
        "id": "e75e029a"
      },
      "source": [
        "BATCH_SIZE = 32  # 배치사이즈\n",
        "N_PAST = 10      # 과거 데이터 (X)\n",
        "N_FUTURE = 10    # 미래 데이터 (Y)\n",
        "SHIFT = 1        # SHIFT"
      ],
      "id": "e75e029a",
      "execution_count": null,
      "outputs": []
    },
    {
      "cell_type": "markdown",
      "metadata": {
        "id": "63e49b63"
      },
      "source": [
        "### train / validation set 구성"
      ],
      "id": "63e49b63"
    },
    {
      "cell_type": "code",
      "metadata": {
        "id": "91292427"
      },
      "source": [
        "train_set = windowed_dataset(series=x_train, batch_size=BATCH_SIZE,\n",
        "                             n_past=N_PAST, n_future=N_FUTURE,\n",
        "                             shift=SHIFT)\n",
        "\n",
        "valid_set = windowed_dataset(series=x_valid, batch_size=BATCH_SIZE,\n",
        "                             n_past=N_PAST, n_future=N_FUTURE,\n",
        "                             shift=SHIFT)"
      ],
      "id": "91292427",
      "execution_count": null,
      "outputs": []
    },
    {
      "cell_type": "markdown",
      "metadata": {
        "id": "a9bb69e7"
      },
      "source": [
        "### 모델 구성"
      ],
      "id": "a9bb69e7"
    },
    {
      "cell_type": "code",
      "metadata": {
        "id": "b9a2ca86"
      },
      "source": [
        "model = tf.keras.models.Sequential([\n",
        "    Conv1D(filters=32, kernel_size=5, padding='causal', activation='relu', input_shape=[N_PAST, 1]),\n",
        "    Bidirectional(LSTM(32, return_sequences=True)),\n",
        "    Bidirectional(LSTM(32, return_sequences=True)),\n",
        "    Dense(32, activation='relu'),\n",
        "    Dense(16, activation='relu'),\n",
        "    Dense(N_FEATURES)\n",
        "])"
      ],
      "id": "b9a2ca86",
      "execution_count": null,
      "outputs": []
    },
    {
      "cell_type": "markdown",
      "metadata": {
        "id": "c71b0cde"
      },
      "source": [
        "### 체크포인트 생성"
      ],
      "id": "c71b0cde"
    },
    {
      "cell_type": "code",
      "metadata": {
        "id": "4e7c72b8"
      },
      "source": [
        "checkpoint_path = 'model/my_checkpoint.ckpt'\n",
        "checkpoint = ModelCheckpoint(filepath=checkpoint_path,\n",
        "                             save_weights_only=True,\n",
        "                             save_best_only=True,\n",
        "                             monitor='val_mae',\n",
        "                             verbose=1)"
      ],
      "id": "4e7c72b8",
      "execution_count": null,
      "outputs": []
    },
    {
      "cell_type": "markdown",
      "metadata": {
        "id": "a5d88f17"
      },
      "source": [
        "### 컴파일"
      ],
      "id": "a5d88f17"
    },
    {
      "cell_type": "code",
      "metadata": {
        "id": "a51acd99"
      },
      "source": [
        "optimizer = tf.keras.optimizers.Adam(0.0001)\n",
        "model.compile(optimizer=optimizer, loss=tf.keras.losses.Huber(), metrics=['mae'])"
      ],
      "id": "a51acd99",
      "execution_count": null,
      "outputs": []
    },
    {
      "cell_type": "markdown",
      "metadata": {
        "id": "6ada3688"
      },
      "source": [
        "### 학습(train)"
      ],
      "id": "6ada3688"
    },
    {
      "cell_type": "code",
      "metadata": {
        "id": "a9f3a59e"
      },
      "source": [
        "model.fit(train_set,\n",
        "          validation_data=(valid_set),\n",
        "          epochs=100,\n",
        "          callbacks=[checkpoint])"
      ],
      "id": "a9f3a59e",
      "execution_count": null,
      "outputs": []
    },
    {
      "cell_type": "markdown",
      "metadata": {
        "id": "f8f6196d"
      },
      "source": [
        "### 가중치 로드"
      ],
      "id": "f8f6196d"
    },
    {
      "cell_type": "code",
      "metadata": {
        "id": "a4e2057a"
      },
      "source": [
        "model.load_weights(checkpoint_path)"
      ],
      "id": "a4e2057a",
      "execution_count": null,
      "outputs": []
    }
  ]
}